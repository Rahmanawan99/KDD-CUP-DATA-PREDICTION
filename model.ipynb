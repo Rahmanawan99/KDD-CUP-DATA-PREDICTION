{
 "cells": [
  {
   "cell_type": "code",
   "execution_count": 372,
   "metadata": {},
   "outputs": [],
   "source": [
    "import pandas as pd\n",
    "from sklearn.preprocessing import LabelEncoder, OneHotEncoder, StandardScaler\n",
    "from sklearn.model_selection import train_test_split\n",
    "from tensorflow.keras.models import Sequential\n",
    "from tensorflow.keras.layers import Dense\n",
    "from tensorflow.keras.utils import to_categorical\n",
    "from sklearn.utils import class_weight\n",
    "import numpy as np\n",
    "from tensorflow.keras.optimizers import SGD"
   ]
  },
  {
   "cell_type": "code",
   "execution_count": 373,
   "metadata": {},
   "outputs": [],
   "source": [
    "#df = pd.read_csv('all_data.csv')\n",
    "df = pd.read_csv('cleaned_data_drop.csv')"
   ]
  },
  {
   "cell_type": "code",
   "execution_count": 249,
   "metadata": {},
   "outputs": [],
   "source": [
    "#print(df.isnull().sum())"
   ]
  },
  {
   "cell_type": "code",
   "execution_count": 374,
   "metadata": {},
   "outputs": [],
   "source": [
    "df = df.dropna()"
   ]
  },
  {
   "cell_type": "code",
   "execution_count": 251,
   "metadata": {},
   "outputs": [],
   "source": [
    "#print(df.isnull().sum())"
   ]
  },
  {
   "cell_type": "code",
   "execution_count": null,
   "metadata": {},
   "outputs": [],
   "source": [
    "# if using clean data\n",
    "print(\"Original Attack Distribution:\")\n",
    "print(df['Attack'].value_counts())\n",
    "\n",
    "# dropping cases to balance the target column\n",
    "num_normal_cases_to_drop = 272000  \n",
    "num_neptune_cases_to_drop = 45000  \n",
    "\n",
    "# Filter the DataFrame for the \"normal\" and \"neptune\" classes\n",
    "normal_cases = df[df['Attack'] == 'normal']\n",
    "neptune_cases = df[df['Attack'] == 'neptune']\n",
    "\n",
    "# Randomly drop specified cases from the \"normal\" and \"neptune\" classes\n",
    "normal_cases_dropped = normal_cases.sample(n=len(normal_cases) - num_normal_cases_to_drop, random_state=42)\n",
    "neptune_cases_dropped = neptune_cases.sample(n=len(neptune_cases) - num_neptune_cases_to_drop, random_state=42)\n",
    "\n",
    "# Combine the modified cases with the other classes\n",
    "modified_df = pd.concat([normal_cases_dropped, neptune_cases_dropped, df[df['Attack'] != 'normal'][df['Attack'] != 'neptune']])\n",
    "\n",
    "# Print the new distribution after dropping cases\n",
    "print(\"\\nModified Attack Distribution:\")\n",
    "print(modified_df['Attack'].value_counts())\n",
    "\n",
    "print (df.shape)\n",
    "print (modified_df.shape)\n",
    "\n",
    "# if using all_data file to test the model\n",
    "\n",
    "# print(\"Original Attack Distribution:\")\n",
    "# print(df['Attack'].value_counts())\n",
    "\n",
    "# num_normal_cases_to_drop = 589000  # Change this number as needed for \"normal\"\n",
    "# num_neptune_cases_to_drop = 200000   # Change this number as needed for \"neptune\"\n",
    "# num_smurf_cases_to_drop = 220000   # Change this number as needed for \"smurf\"\n",
    "\n",
    "# normal_cases = df[df['Attack'] == 'normal']\n",
    "# neptune_cases = df[df['Attack'] == 'neptune']\n",
    "# smurf_cases = df[df['Attack'] == 'smurf']\n",
    "\n",
    "# normal_cases_dropped = normal_cases.sample(n=len(normal_cases) - num_normal_cases_to_drop, random_state=42)\n",
    "# neptune_cases_dropped = neptune_cases.sample(n=len(neptune_cases) - num_neptune_cases_to_drop, random_state=42)\n",
    "# smurf_cases_dropped = smurf_cases.sample(n=len(smurf_cases) - num_smurf_cases_to_drop, random_state=42)\n",
    "\n",
    "# modified_df = pd.concat([\n",
    "#     normal_cases_dropped,\n",
    "#     neptune_cases_dropped,\n",
    "#     smurf_cases_dropped,  # Use the dropped smurf cases here\n",
    "#     df[~df['Attack'].isin(['normal', 'neptune', 'smurf'])]  # Filter out the other classes])\n",
    "\n",
    "# print(\"\\nModified Attack Distribution:\")\n",
    "# print(modified_df['Attack'].value_counts())"
   ]
  },
  {
   "cell_type": "code",
   "execution_count": null,
   "metadata": {},
   "outputs": [],
   "source": [
    "# Select a specific categorical column\n",
    "column = 'Attack'\n",
    "\n",
    "# Bar Plot to see distribution before\n",
    "plt.figure(figsize=(12, 6))\n",
    "sns.countplot(y=df[column], order=df[column].value_counts().index[:10])  # Top 10 most frequent values\n",
    "plt.title(f'Count Plot of balanced {column}')\n",
    "plt.show()\n",
    "\n",
    "# Bar Plot to see distribution after\n",
    "plt.figure(figsize=(12, 6))\n",
    "sns.countplot(y=modified_df[column], order=modified_df[column].value_counts().index[:10])  # Top 10 most frequent values\n",
    "plt.title(f'Count Plot of balanced {column}')\n",
    "plt.show()"
   ]
  },
  {
   "cell_type": "code",
   "execution_count": null,
   "metadata": {},
   "outputs": [],
   "source": [
    "column = 'protocol_typesymbolic'\n",
    "\n",
    "plt.figure(figsize=(12, 6))\n",
    "sns.countplot(y=df[column], order=df[column].value_counts().index[:10])  # Top 10 most frequent values\n",
    "plt.title(f'Count Plot of balanced {column}')\n",
    "plt.show()\n",
    "\n",
    "plt.figure(figsize=(12, 6))\n",
    "sns.countplot(y=modified_df[column], order=modified_df[column].value_counts().index[:10])  # Top 10 most frequent values\n",
    "plt.title(f'Count Plot of balanced {column}')\n",
    "plt.show()"
   ]
  },
  {
   "cell_type": "code",
   "execution_count": null,
   "metadata": {},
   "outputs": [],
   "source": [
    "column = 'servicesymbolic'\n",
    "\n",
    "plt.figure(figsize=(12, 6))\n",
    "sns.countplot(y=modified_df[column], order=modified_df[column].value_counts().index[:10])  # Top 10 most frequent values\n",
    "plt.title(f'Count Plot of balanced {column}')\n",
    "plt.show()\n",
    "\n",
    "plt.figure(figsize=(12, 6))\n",
    "sns.countplot(y=df[column], order=df[column].value_counts().index[:10])  # Top 10 most frequent values\n",
    "plt.title(f'Count Plot of {column}')\n",
    "plt.show()"
   ]
  },
  {
   "cell_type": "code",
   "execution_count": null,
   "metadata": {},
   "outputs": [],
   "source": [
    "column = 'flagsymbolic'\n",
    "\n",
    "plt.figure(figsize=(12, 6))\n",
    "sns.countplot(y=modified_df[column], order=modified_df[column].value_counts().index[:10])  # Top 10 most frequent values\n",
    "plt.title(f'Count Plot of balanced {column}')\n",
    "plt.show()\n",
    "\n",
    "plt.figure(figsize=(12, 6))\n",
    "sns.countplot(y=df[column], order=df[column].value_counts().index[:10])  # Top 10 most frequent values\n",
    "plt.title(f'Count Plot of {column}')\n",
    "plt.show()"
   ]
  },
  {
   "cell_type": "code",
   "execution_count": null,
   "metadata": {},
   "outputs": [],
   "source": [
    "# Encoding the 'Attack' column whihc is our target column\n",
    "label_encoder = LabelEncoder()\n",
    "modified_df['Attack'] = label_encoder.fit_transform(modified_df['Attack'])\n",
    "\n",
    "#Encoding the other categorical columns\n",
    "modified_df = pd.get_dummies(modified_df, columns=['protocol_typesymbolic', 'servicesymbolic', 'flagsymbolic'])\n",
    "\n",
    "# Feature Selection\n",
    "X = modified_df.drop(columns=['Attack'])\n",
    "y = modified_df['Attack']\n",
    "\n",
    "# Standardizing the features \n",
    "scaler = StandardScaler()\n",
    "X_scaled = scaler.fit_transform(X)\n",
    "\n",
    "# Split data into training and test you can change according to accuracy\n",
    "X_train, X_test, y_train, y_test = train_test_split(X_scaled, y, test_size=0.25, random_state=42)\n",
    "\n",
    "print(\"X_train shape:\", X_train.shape)\n",
    "print(\"y_train shape:\", y_train.shape)\n",
    "print(\"X_test shape:\", X_test.shape)\n",
    "print(\"y_test shape:\", y_test.shape)"
   ]
  },
  {
   "cell_type": "code",
   "execution_count": null,
   "metadata": {},
   "outputs": [],
   "source": [
    "# Convert target variable to categorical (one-hot encoded for multi-class classification)\n",
    "y_train_cat = to_categorical(y_train)\n",
    "y_test_cat = to_categorical(y_test)\n",
    "\n",
    "model = Sequential()\n",
    "\n",
    "# Input layer\n",
    "model.add(Dense(units=64, activation='relu', input_dim=X_train.shape[1]))\n",
    "\n",
    "# Hidden layers with dropout these can vary aswell\n",
    "model.add(Dense(units=32, activation='relu'))\n",
    "model.add(Dropout(0.3))\n",
    "model.add(Dense(units=16, activation='relu'))\n",
    "model.add(Dropout(0.3))\n",
    "\n",
    "# Output layer all factors can vary\n",
    "model.add(Dense(units=y_train_cat.shape[1], activation='sigmoid'))\n",
    "\n",
    "# Compile the model all factors can vary\n",
    "model.compile(optimizer=SGD(learning_rate=0.001), loss='categorical_crossentropy', metrics=['accuracy'])\n",
    "\n",
    "# Train the model epochs can vary\n",
    "history = model.fit(X_train, y_train_cat, epochs=50, batch_size=32, validation_data=(X_test, y_test_cat))\n",
    "\n",
    "# Perform predictions on the test set\n",
    "y_pred = model.predict(X_test)\n",
    "\n",
    "# Check the shape of predictions\n",
    "print(\"Shape of y_pred:\", y_pred.shape)\n",
    "print(\"Shape of y_test:\", y_test.shape)\n"
   ]
  },
  {
   "cell_type": "code",
   "execution_count": null,
   "metadata": {},
   "outputs": [],
   "source": [
    "# Evaluate the model\n",
    "test_loss, test_acc = model.evaluate(X_test, y_test_cat)\n",
    "print(f\"Test Accuracy: {test_acc:.2f}\")"
   ]
  },
  {
   "cell_type": "code",
   "execution_count": 380,
   "metadata": {},
   "outputs": [
    {
     "name": "stdout",
     "output_type": "stream",
     "text": [
      "Shape of X_test: (3016, 103)\n",
      "Shape of y_test: (3016,)\n"
     ]
    }
   ],
   "source": [
    "print(\"Shape of X_test:\", X_test.shape)\n",
    "print(\"Shape of y_test:\", y_test.shape)\n",
    "print(\"Shape of y_test:\", y_test.shape)\n",
    "print(\"Shape of y_pred:\", y_pred.shape)"
   ]
  },
  {
   "cell_type": "code",
   "execution_count": null,
   "metadata": {},
   "outputs": [],
   "source": [
    "# Plotting Training and Validation Loss\n",
    "train_loss = history.history['loss']\n",
    "val_loss = history.history['val_loss']\n",
    "\n",
    "plt.plot(train_loss, label='Training Loss')\n",
    "plt.plot(val_loss, label='Validation Loss')\n",
    "plt.xlabel('Epochs')\n",
    "plt.ylabel('Loss')\n",
    "plt.legend()\n",
    "plt.title('Learning Curve')\n",
    "plt.show()"
   ]
  },
  {
   "cell_type": "code",
   "execution_count": 383,
   "metadata": {},
   "outputs": [],
   "source": [
    "# Get the predicted class labels from the predicted probabilities for RMSE\n",
    "y_pred_classes = np.argmax(y_pred, axis=1)"
   ]
  },
  {
   "cell_type": "code",
   "execution_count": null,
   "metadata": {},
   "outputs": [],
   "source": [
    "from sklearn.metrics import mean_squared_error\n",
    "\n",
    "# Calculate RMSE, not relevent here\n",
    "rmse = np.sqrt(mean_squared_error(y_test, y_pred_classes))\n",
    "print(\"Root Mean Square Error (RMSE):\", rmse)"
   ]
  },
  {
   "cell_type": "code",
   "execution_count": null,
   "metadata": {},
   "outputs": [],
   "source": [
    "import matplotlib.pyplot as plt\n",
    "from sklearn.metrics import roc_curve, auc\n",
    "from sklearn.preprocessing import label_binarize\n",
    "\n",
    "# Binarize the output (one-hot encoding)\n",
    "y_test_bin = label_binarize(y_test, classes=np.unique(y_test))\n",
    "y_pred_bin = model.predict(X_test)\n",
    "\n",
    "# Calculate ROC\n",
    "fpr_micro, tpr_micro, _ = roc_curve(y_test_bin.ravel(), y_pred_bin.ravel())\n",
    "roc_auc_micro = auc(fpr_micro, tpr_micro)\n",
    "\n",
    "plt.figure()\n",
    "plt.plot(fpr_micro, tpr_micro, label='Micro-average ROC curve (area = {0:0.2f})'.format(roc_auc_micro))\n",
    "\n",
    "plt.plot([0, 1], [0, 1], 'k--')\n",
    "\n",
    "plt.xlim([0.0, 1.0])\n",
    "plt.ylim([0.0, 1.05])\n",
    "plt.xlabel('False Positive Rate')\n",
    "plt.ylabel('True Positive Rate')\n",
    "plt.title('Micro-Averaged Receiver Operating Characteristic (ROC) Curve')\n",
    "plt.legend(loc='lower right')\n",
    "\n",
    "plt.show()\n"
   ]
  },
  {
   "cell_type": "code",
   "execution_count": null,
   "metadata": {},
   "outputs": [],
   "source": [
    "from sklearn.metrics import confusion_matrix\n",
    "import seaborn as sns\n",
    "\n",
    "# Make predictions we have made above already made here again does not matter\n",
    "y_pred_classes = np.argmax(y_pred_bin, axis=1)\n",
    "\n",
    "cm = confusion_matrix(y_test, y_pred_classes)\n",
    "\n",
    "plt.figure(figsize=(10, 7))\n",
    "sns.heatmap(cm, annot=True, fmt='d', cmap='Blues', xticklabels=np.unique(y_test), yticklabels=np.unique(y_test))\n",
    "plt.ylabel('Actual')\n",
    "plt.xlabel('Predicted')\n",
    "plt.title('Confusion Matrix')\n",
    "plt.show()\n"
   ]
  },
  {
   "cell_type": "code",
   "execution_count": 387,
   "metadata": {},
   "outputs": [
    {
     "name": "stdout",
     "output_type": "stream",
     "text": [
      "Accuracy: 0.9360079575596817\n",
      "Precision: 0.914271261902086\n",
      "Recall: 0.9360079575596817\n",
      "F1 Score: 0.923878598490224\n"
     ]
    },
    {
     "name": "stderr",
     "output_type": "stream",
     "text": [
      "/Users/rahmanahmed/Py/myenv/lib/python3.12/site-packages/sklearn/metrics/_classification.py:1531: UndefinedMetricWarning: Precision is ill-defined and being set to 0.0 in labels with no predicted samples. Use `zero_division` parameter to control this behavior.\n",
      "  _warn_prf(average, modifier, f\"{metric.capitalize()} is\", len(result))\n"
     ]
    }
   ],
   "source": [
    "from sklearn.metrics import accuracy_score, precision_score, recall_score, f1_score\n",
    "\n",
    "accuracy = accuracy_score(y_test, y_pred_classes)\n",
    "precision = precision_score(y_test, y_pred_classes, average='weighted')\n",
    "recall = recall_score(y_test, y_pred_classes, average='weighted')\n",
    "f1 = f1_score(y_test, y_pred_classes, average='weighted')\n",
    "\n",
    "print(\"Accuracy:\", accuracy)\n",
    "print(\"Precision:\", precision)\n",
    "print(\"Recall:\", recall)\n",
    "print(\"F1 Score:\", f1)\n"
   ]
  },
  {
   "cell_type": "code",
   "execution_count": null,
   "metadata": {},
   "outputs": [],
   "source": [
    "# # Save the trained model if you want to not required here\n",
    "# model.save('ann_model.keras')\n",
    "# model.save('ann_model.h5')\n"
   ]
  },
  {
   "cell_type": "code",
   "execution_count": null,
   "metadata": {},
   "outputs": [],
   "source": [
    "import matplotlib.pyplot as plt\n",
    "\n",
    "def plot_training_history(history):\n",
    "    # Plot training & validation accuracy values\n",
    "    plt.figure(figsize=(14, 5))\n",
    "\n",
    "    plt.subplot(1, 2, 1)\n",
    "    plt.plot(history.history['accuracy'], label='Train Accuracy')\n",
    "    plt.plot(history.history['val_accuracy'], label='Validation Accuracy')\n",
    "    plt.title('Model Accuracy')\n",
    "    plt.ylabel('Accuracy')\n",
    "    plt.xlabel('Epoch')\n",
    "    plt.legend(loc='upper left')\n",
    "    plt.grid()\n",
    "\n",
    "    # Plot training & validation loss values\n",
    "    plt.subplot(1, 2, 2)\n",
    "    plt.plot(history.history['loss'], label='Train Loss')\n",
    "    plt.plot(history.history['val_loss'], label='Validation Loss')\n",
    "    plt.title('Model Loss')\n",
    "    plt.ylabel('Loss')\n",
    "    plt.xlabel('Epoch')\n",
    "    plt.legend(loc='upper left')\n",
    "    plt.grid()\n",
    "\n",
    "    plt.tight_layout()\n",
    "    plt.show()\n",
    "    \n",
    "#history is the model\n",
    "plot_training_history(history)\n"
   ]
  }
 ],
 "metadata": {
  "kernelspec": {
   "display_name": "myenv",
   "language": "python",
   "name": "python3"
  },
  "language_info": {
   "codemirror_mode": {
    "name": "ipython",
    "version": 3
   },
   "file_extension": ".py",
   "mimetype": "text/x-python",
   "name": "python",
   "nbconvert_exporter": "python",
   "pygments_lexer": "ipython3",
   "version": "3.12.4"
  }
 },
 "nbformat": 4,
 "nbformat_minor": 2
}
